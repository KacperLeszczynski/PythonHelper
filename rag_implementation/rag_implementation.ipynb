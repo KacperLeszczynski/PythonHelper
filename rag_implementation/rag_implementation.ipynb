{
 "cells": [
  {
   "cell_type": "markdown",
   "id": "b0484cc4-b8d6-426d-ae06-5d2bed178d35",
   "metadata": {},
   "source": [
    "## RAG implementation\n",
    "#### in this notebook we will briefly compare RAG enriched LLM and basic LLM"
   ]
  },
  {
   "cell_type": "code",
   "execution_count": 19,
   "id": "5122c5df-e6d0-4f34-8e07-1c1225507047",
   "metadata": {},
   "outputs": [],
   "source": [
    "import os\n",
    "from dotenv import load_dotenv\n",
    "import openai\n",
    "import chromadb\n",
    "import tiktoken\n",
    "import sqlite3\n",
    "import nltk\n",
    "from nltk.tokenize import word_tokenize\n",
    "from rank_bm25 import BM25Okapi\n",
    "from sentence_transformers import CrossEncoder\n",
    "import time\n",
    "import functools\n",
    "import matplotlib.pyplot as plt\n",
    "import pickle"
   ]
  },
  {
   "cell_type": "code",
   "execution_count": 20,
   "id": "27342390-19b1-47cd-8f82-d591d57cc26c",
   "metadata": {},
   "outputs": [
    {
     "data": {
      "text/plain": [
       "True"
      ]
     },
     "execution_count": 20,
     "metadata": {},
     "output_type": "execute_result"
    }
   ],
   "source": [
    "load_dotenv()"
   ]
  },
  {
   "cell_type": "code",
   "execution_count": 12,
   "id": "2ba0cbe0-7d50-4620-beb8-0a5ba9a2316a",
   "metadata": {},
   "outputs": [
    {
     "name": "stderr",
     "output_type": "stream",
     "text": [
      "[nltk_data] Downloading package punkt to\n",
      "[nltk_data]     C:\\Users\\kacpe\\AppData\\Roaming\\nltk_data...\n",
      "[nltk_data]   Package punkt is already up-to-date!\n"
     ]
    },
    {
     "data": {
      "text/plain": [
       "True"
      ]
     },
     "execution_count": 12,
     "metadata": {},
     "output_type": "execute_result"
    }
   ],
   "source": [
    "nltk.download('punkt')"
   ]
  },
  {
   "cell_type": "code",
   "execution_count": 21,
   "id": "198fc65b-8eb8-4300-8c55-4881f4003604",
   "metadata": {},
   "outputs": [
    {
     "name": "stderr",
     "output_type": "stream",
     "text": [
      "[nltk_data] Downloading package punkt_tab to\n",
      "[nltk_data]     C:\\Users\\kacpe\\AppData\\Roaming\\nltk_data...\n",
      "[nltk_data]   Package punkt_tab is already up-to-date!\n"
     ]
    },
    {
     "data": {
      "text/plain": [
       "True"
      ]
     },
     "execution_count": 21,
     "metadata": {},
     "output_type": "execute_result"
    }
   ],
   "source": [
    "nltk.download('punkt_tab')"
   ]
  },
  {
   "cell_type": "code",
   "execution_count": 22,
   "id": "54f59dc8-c7e3-45d5-9cee-b5f58ecdb9ae",
   "metadata": {},
   "outputs": [],
   "source": [
    "OPEN_AI_API_KEY = os.getenv(\"OPENAI_API_KEY\")\n",
    "CHROMA_DB_PATH = \"./../data_collecting/chroma_db\""
   ]
  },
  {
   "cell_type": "code",
   "execution_count": 23,
   "id": "a451a4b0-985c-40f1-ae03-8f993099153e",
   "metadata": {},
   "outputs": [],
   "source": [
    "chat_model = \"gpt-4o-mini\""
   ]
  },
  {
   "cell_type": "code",
   "execution_count": 24,
   "id": "aca4b26d-2804-44af-b830-ea19b0d0044b",
   "metadata": {},
   "outputs": [],
   "source": [
    "python_versions=[\"3.10\",\"3.11\",\"3.12\",\"3.13\"]"
   ]
  },
  {
   "cell_type": "code",
   "execution_count": 41,
   "id": "edbbf491-cabc-4e04-b8bf-3cb9ac450c60",
   "metadata": {},
   "outputs": [],
   "source": [
    "bm25_per_python_version = {\"3.10\": None, \"3.11\": None, \"3.12\": None, \"3.13\": None }"
   ]
  },
  {
   "cell_type": "code",
   "execution_count": 134,
   "id": "ddcea0d4-32ed-4f9c-91c1-a461a6b54181",
   "metadata": {},
   "outputs": [],
   "source": [
    "def format_query(user_query):\n",
    "    if \"python\" not in user_query.lower():\n",
    "        return f\"{user_query} in Python\"\n",
    "    return user_query"
   ]
  },
  {
   "cell_type": "code",
   "execution_count": 165,
   "id": "4d4b4f04-4235-4fc1-9120-3f6f81000cbd",
   "metadata": {},
   "outputs": [],
   "source": [
    "prompt_model = \"\"\"\n",
    "    ### Context:\n",
    "    {context}\n",
    "    \n",
    "    ### User's questions:\n",
    "    {query}\n",
    "\n",
    "    ### Python version: \n",
    "    {python_version}\n",
    "    \n",
    "    ** Instructions **\n",
    "    - If user asks you to generate code and by using context you cannot do it, then generate it on your own\n",
    "    - If user doesn't ask to generate code and the context does not contain answer for query say \"I don't have sufficient knowledge to answer this question\".\n",
    "    - If the user's question does not specify Python, rephrase it internally as a Python-related question before answering.\n",
    "    - If there is a code in your output explain this code to the user step by step\n",
    "    - Do not answer any other question than about python programming language\n",
    "    - If topic is complex provide summary at the end of your answer\n",
    "    - Do not make up any information\n",
    "    - Provide consise and structured answer\n",
    "    \"\"\"\n"
   ]
  },
  {
   "cell_type": "markdown",
   "id": "e700ebec-b0ae-4422-a6df-9081490b689b",
   "metadata": {},
   "source": [
    "### Preparing bm25 to serialize"
   ]
  },
  {
   "cell_type": "code",
   "execution_count": 42,
   "id": "dfec96e9-8c43-43a2-99ca-0d90de00244a",
   "metadata": {},
   "outputs": [],
   "source": [
    "conn = sqlite3.connect(\"../data_collecting/documents.db\")\n",
    "cursor = conn.cursor()\n",
    "\n",
    "for python_version in python_versions:\n",
    "\n",
    "    cursor.execute(\"SELECT id, document FROM documents WHERE id LIKE ?\", (f\"{python_version}%\",))\n",
    "    rows = cursor.fetchall()\n",
    "    \n",
    "    ids = [row[0] for row in rows]\n",
    "    documents = [row[1] for row in rows]\n",
    "\n",
    "    tokenized_documents = [word_tokenize(doc.lower()) for doc in documents]\n",
    "    bm25 = BM25Okapi(tokenized_documents)\n",
    "\n",
    "    bm25_per_python_version[python_version] = bm25\n",
    "\n",
    "conn.close()"
   ]
  },
  {
   "cell_type": "code",
   "execution_count": 47,
   "id": "3766ac6f-14af-4a78-b3f3-9e44f90ed591",
   "metadata": {},
   "outputs": [],
   "source": [
    "with open(\"bm25_per_python_version.pkl\", \"wb\") as f:\n",
    "    pickle.dump(bm25_per_python_version, f)"
   ]
  },
  {
   "cell_type": "code",
   "execution_count": 48,
   "id": "fc425183-23ae-4f5f-b69d-750cfef95887",
   "metadata": {},
   "outputs": [],
   "source": [
    "with open(\"bm25_per_python_version.pkl\", \"rb\") as f:\n",
    "    bm25_per_python_version = pickle.load(f)"
   ]
  },
  {
   "cell_type": "code",
   "execution_count": 25,
   "id": "da2fe23d-df5f-471b-bf28-a3d3660db069",
   "metadata": {},
   "outputs": [],
   "source": [
    "client = chromadb.PersistentClient(path=CHROMA_DB_PATH)\n",
    "collection = client.get_or_create_collection(name=\"python_data\")"
   ]
  },
  {
   "cell_type": "code",
   "execution_count": 26,
   "id": "c8433df2-edea-4bc9-a695-430e0494472c",
   "metadata": {},
   "outputs": [],
   "source": [
    "openai.api_key = OPEN_AI_API_KEY "
   ]
  },
  {
   "cell_type": "code",
   "execution_count": 109,
   "id": "35b8ac0d-8c8a-420a-a35b-9d168512e318",
   "metadata": {},
   "outputs": [],
   "source": [
    "def get_openai_embedding(text):\n",
    "    response = openai.embeddings.create(\n",
    "        input=[text],\n",
    "        model=\"text-embedding-ada-002\"\n",
    "    )\n",
    "    return response.data[0].embedding\n",
    "\n",
    "def retrieve_documents(query, python_version, top_k=7):\n",
    "    query_embedding = get_openai_embedding(query)\n",
    "\n",
    "    results = collection.query(\n",
    "        query_embeddings=[query_embedding],\n",
    "        n_results=top_k,\n",
    "        where={\"version\": python_version}\n",
    "    )\n",
    "\n",
    "    return results[\"documents\"][0] if \"documents\" in results and results[\"documents\"] else []\n",
    "\n",
    "def generate_response(query, retrieved_docs, python_version):\n",
    "    context = \"\\n\\n\".join(retrieved_docs)\n",
    "    \n",
    "    prompt = prompt_model.format(context = context,query = query,python_version = python_version)\n",
    "    client = openai.Client()\n",
    "    response = client.chat.completions.create(\n",
    "        model=chat_model,\n",
    "        temperature=0.3,\n",
    "        messages=[{\"role\": \"system\", \"content\": \"You are python expert and you provide answer only based on given context.\"},\n",
    "                  {\"role\": \"user\", \"content\": prompt}]\n",
    "    )\n",
    "    \n",
    "    return response.choices[0].message.content"
   ]
  },
  {
   "cell_type": "code",
   "execution_count": null,
   "id": "c2d0503f-d10e-43f3-8066-32c303620c57",
   "metadata": {},
   "outputs": [],
   "source": [
    "query = \"Jak działa match-case w Pythonie 3.10?\"\n",
    "retrieved_docs = retrieve_documents(query, \"3.10\", 5)\n",
    "answer = generate_response(query, retrieved_docs, \"3.10\")\n"
   ]
  },
  {
   "cell_type": "code",
   "execution_count": null,
   "id": "2d7d346e-d2a7-498f-96ab-2f3a2561bad3",
   "metadata": {},
   "outputs": [],
   "source": [
    "print(answer)"
   ]
  },
  {
   "cell_type": "code",
   "execution_count": null,
   "id": "916b6ba4-1e71-46ed-bcad-e64e74b70500",
   "metadata": {},
   "outputs": [],
   "source": [
    "example_queries = [\"what is match-case?\", \"How multiinheritance in python works?\", \"What is SyntaxError?\" ]"
   ]
  },
  {
   "cell_type": "code",
   "execution_count": null,
   "id": "241bac5e-2f4d-42a1-be9a-033de9004d32",
   "metadata": {},
   "outputs": [],
   "source": []
  },
  {
   "cell_type": "code",
   "execution_count": null,
   "id": "42df791b-ada6-40ba-b2c3-eb16177f9385",
   "metadata": {},
   "outputs": [],
   "source": [
    "answers = []"
   ]
  },
  {
   "cell_type": "code",
   "execution_count": null,
   "id": "409f3412-ec62-40ca-ade1-f87c70369f4b",
   "metadata": {},
   "outputs": [],
   "source": [
    "for query in example_queries:\n",
    "    python_version = \"3.10\"\n",
    "    retrieved_docs = retrieve_documents(query, python_version, 3)\n",
    "    answer_rag = generate_response(query, retrieved_docs, python_version)\n",
    "\n",
    "    client = openai.Client()\n",
    "    response = client.chat.completions.create(\n",
    "        model=\"gpt-4-turbo\",\n",
    "        messages=[{\"role\": \"system\", \"content\": \"You are python expert and you provide answer only based on given context.\"},\n",
    "                  {\"role\": \"user\", \"content\": query + \" python version is: \" + python_version}]\n",
    "    )\n",
    "\n",
    "    normal_answer = response.choices[0].message.content\n",
    "\n",
    "    answers.append({\"rag\": answer_rag, \"normal\": normal_answer})"
   ]
  },
  {
   "cell_type": "code",
   "execution_count": null,
   "id": "d18a84fb-cf4b-4322-a1a7-e4f7ae1ba0fb",
   "metadata": {},
   "outputs": [],
   "source": [
    "\n",
    "for answer in answers:\n",
    "    print(\"-\"*90)\n",
    "    print(\"1: \" + answer[\"rag\"])\n",
    "    print(\"2: \" + answer[\"normal\"])"
   ]
  },
  {
   "cell_type": "code",
   "execution_count": null,
   "id": "ef7fbad7-477a-4e17-ad0b-a1921375c79b",
   "metadata": {},
   "outputs": [],
   "source": [
    "for query in example_queries:\n",
    "    retrieved_docs = retrieve_documents(query, \"3.10\", 7)\n",
    "    answer = generate_response(query, retrieved_docs, \"3.10\")\n",
    "\n",
    "    print(\"-\"*50)\n",
    "    print(\"QUESTION: \" + query)\n",
    "    print(\"ANSWER: \" + answer)\n",
    "    "
   ]
  },
  {
   "cell_type": "markdown",
   "id": "d1b15a20-666d-4480-b343-b7c1dcb18fdf",
   "metadata": {},
   "source": [
    "## BM25 + RERANK + VECTOR SEARCH"
   ]
  },
  {
   "cell_type": "code",
   "execution_count": 30,
   "id": "70852706-5c0e-4939-b801-3135836e5673",
   "metadata": {},
   "outputs": [],
   "source": [
    "reranker = CrossEncoder('cross-encoder/ms-marco-MiniLM-L-6-v2')"
   ]
  },
  {
   "cell_type": "code",
   "execution_count": 141,
   "id": "75ffed66-26fe-4369-bf25-345679f3da88",
   "metadata": {},
   "outputs": [],
   "source": [
    "def search_in_sqlite(query, python_version, top_k=5):\n",
    "    bm25 = bm25_per_python_version[python_version]\n",
    "\n",
    "    tokenized_query = word_tokenize(query.lower())\n",
    "    scores = bm25.get_scores(tokenized_query)\n",
    "    \n",
    "    top_indices = sorted(range(len(scores)), key=lambda i: scores[i], reverse=True)[:top_k]\n",
    "    \n",
    "    return [documents[i] for i in top_indices]\n",
    "\n",
    "def retrieve_documents_bm25(query, python_version, top_k=5):\n",
    "    query_embedding = get_openai_embedding(query)\n",
    "\n",
    "    results = collection.query(\n",
    "        query_embeddings=[query_embedding],\n",
    "        n_results=top_k,\n",
    "        where={\"version\": python_version}\n",
    "    )\n",
    "\n",
    "    embedding_results = results[\"documents\"][0] if \"documents\" in results and results[\"documents\"] else []\n",
    "    \n",
    "    bm25_results = search_in_sqlite(query, python_version, top_k)\n",
    "\n",
    "    combined_results = list(set(embedding_results + bm25_results))\n",
    "\n",
    "    return combined_results\n",
    "\n",
    "def rerank_results(query, retrieved_docs, top_k=7):\n",
    "    if not retrieved_docs:\n",
    "        return []\n",
    "\n",
    "    pairs = [(query, doc) for doc in retrieved_docs]\n",
    "    scores = reranker.predict(pairs)\n",
    "    \n",
    "    ranked_results = sorted(zip(retrieved_docs, scores), key=lambda x: x[1], reverse=True)\n",
    "\n",
    "    return [doc for doc, _ in ranked_results[:top_k]]\n",
    "\n",
    "def generate_response_bm25_rerank(query, retrieved_docs, python_version):\n",
    "    reranked_docs = rerank_results(query, retrieved_docs)\n",
    "\n",
    "    context = \"\\n\\n\".join(reranked_docs)\n",
    "    \n",
    "    prompt = prompt_model.format(context = context,query = query,python_version = python_version)\n",
    "    # print(prompt)\n",
    "\n",
    "    client = openai.Client()\n",
    "    response = client.chat.completions.create(\n",
    "        model=chat_model,\n",
    "        temperature=0.3,\n",
    "        messages=[{\"role\": \"system\", \"content\": \"You are a Python expert and you provide answers only based on the given context.\"},\n",
    "                  {\"role\": \"user\", \"content\": prompt}]\n",
    "    )\n",
    "    \n",
    "    return response.choices[0].message.content"
   ]
  },
  {
   "cell_type": "markdown",
   "id": "450336ef-978a-45b5-acd1-720defc4deaa",
   "metadata": {},
   "source": [
    "## BM25 + VECTOR SEARCH"
   ]
  },
  {
   "cell_type": "code",
   "execution_count": 112,
   "id": "308978c4-03d4-463f-9c6b-1656836ae911",
   "metadata": {},
   "outputs": [],
   "source": [
    "def retrieve_documents_bm25_only(query, python_version, top_k=5):\n",
    "    query_embedding = get_openai_embedding(query)\n",
    "\n",
    "    results = collection.query(\n",
    "        query_embeddings=[query_embedding],\n",
    "        n_results=top_k,\n",
    "        where={\"version\": python_version}\n",
    "    )\n",
    "\n",
    "    embedding_results = results[\"documents\"][0] if \"documents\" in results and results[\"documents\"] else []\n",
    "    \n",
    "    bm25_results = search_in_sqlite(query, python_version, top_k)\n",
    "\n",
    "    combined_results = list(set(embedding_results + bm25_results))\n",
    "\n",
    "    return combined_results\n",
    "\n",
    "def generate_response_bm25(query, retrieved_docs, python_version):\n",
    "    context = \"\\n\\n\".join(retrieved_docs)\n",
    "    \n",
    "    prompt = prompt_model.format(context = context,query = query,python_version = python_version)\n",
    "\n",
    "    client = openai.Client()\n",
    "    response = client.chat.completions.create(\n",
    "        model=chat_model,\n",
    "        temperature=0.3,\n",
    "        messages=[{\"role\": \"system\", \"content\": \"You are a Python expert and you provide answers only based on the given context.\"},\n",
    "                  {\"role\": \"user\", \"content\": prompt}]\n",
    "    )\n",
    "    \n",
    "    return response.choices[0].message.content"
   ]
  },
  {
   "cell_type": "code",
   "execution_count": 98,
   "id": "6be04d9a-6b84-4661-8a1d-bfe595ad5917",
   "metadata": {},
   "outputs": [],
   "source": []
  },
  {
   "cell_type": "markdown",
   "id": "c4772a46-18a1-44f4-9756-9f2181411e44",
   "metadata": {},
   "source": [
    "## RERANK + VECTOR SEARCH"
   ]
  },
  {
   "cell_type": "code",
   "execution_count": 113,
   "id": "df568393-3291-4346-a7fe-f2d360bb9edc",
   "metadata": {},
   "outputs": [],
   "source": [
    "def generate_response_rerank(query, retrieved_docs, python_version):\n",
    "    reranked_docs = rerank_results(query, retrieved_docs, 10)\n",
    "\n",
    "    context = \"\\n\\n\".join(reranked_docs)\n",
    "    \n",
    "    prompt = prompt_model.format(context = context,query = query,python_version = python_version)\n",
    "\n",
    "    client = openai.Client()\n",
    "    response = client.chat.completions.create(\n",
    "        model=chat_model,\n",
    "        temperature=0.3,\n",
    "        messages=[{\"role\": \"system\", \"content\": \"You are a Python expert and you provide answers only based on the given context.\"},\n",
    "                  {\"role\": \"user\", \"content\": prompt}]\n",
    "    )\n",
    "    \n",
    "    return response.choices[0].message.content"
   ]
  },
  {
   "cell_type": "code",
   "execution_count": null,
   "id": "1128497e-e894-408d-bf65-2eb88cf3df09",
   "metadata": {},
   "outputs": [],
   "source": [
    "query = \"Jak otworzyć plik CSV w Pythonie?\"\n",
    "python_version = \"3.10\"\n",
    "\n",
    "retrieved_docs = retrieve_documents_bm25(query, python_version, top_k=10)\n",
    "response = generate_response_bm25_rerank(query, retrieved_docs, python_version)"
   ]
  },
  {
   "cell_type": "code",
   "execution_count": 50,
   "id": "b12af8ba-1cec-4456-9b5d-152185df2640",
   "metadata": {},
   "outputs": [],
   "source": [
    "query = \"How can i read content from file?\"\n",
    "python_version = \"3.10\""
   ]
  },
  {
   "cell_type": "code",
   "execution_count": 51,
   "id": "e33a4697-e15a-4ac1-90fc-bed2393e0371",
   "metadata": {},
   "outputs": [],
   "source": [
    "speed_test = {\"vector\": [], \"bm25\": [], \"rerank\": [], \"bm25rerank\": []}"
   ]
  },
  {
   "cell_type": "code",
   "execution_count": null,
   "id": "51edd80a-c327-4b59-828e-8ed6b0d7b828",
   "metadata": {},
   "outputs": [],
   "source": []
  },
  {
   "cell_type": "code",
   "execution_count": null,
   "id": "9ac057e8-68b3-4100-b61f-6d32fe196745",
   "metadata": {},
   "outputs": [],
   "source": []
  },
  {
   "cell_type": "code",
   "execution_count": null,
   "id": "93b0d839-fad3-41a9-ba05-ed6bccc1edd2",
   "metadata": {},
   "outputs": [],
   "source": [
    "start_time = time.time()\n",
    "retrieved_docs = retrieve_documents_bm25(query, python_version, top_k=5)\n",
    "response = generate_response_bm25_rerank(query, retrieved_docs, python_version) \n",
    "end_time = time.time()\n",
    "execution_time = end_time - start_time\n",
    "print(\"execution_time :\", execution_time)"
   ]
  },
  {
   "cell_type": "code",
   "execution_count": null,
   "id": "2fb04ae5-86f5-4409-8e49-a06df49ade94",
   "metadata": {},
   "outputs": [],
   "source": [
    "retrieved_docs = retrieve_documents(query, \"3.10\", 3)"
   ]
  },
  {
   "cell_type": "code",
   "execution_count": 60,
   "id": "6d2d2d26-d614-45bf-9026-8f6feeb01330",
   "metadata": {},
   "outputs": [],
   "source": [
    "minIterations = 8\n",
    "maxIterations = 15"
   ]
  },
  {
   "cell_type": "code",
   "execution_count": 61,
   "id": "62e73d69-e932-4fab-b10c-258a21bf7b3d",
   "metadata": {},
   "outputs": [
    {
     "name": "stdout",
     "output_type": "stream",
     "text": [
      "891011121314"
     ]
    }
   ],
   "source": [
    "for i in range(minIterations, maxIterations):\n",
    "    start_time = time.time()\n",
    "    retrieved_docs = retrieve_documents_bm25(query, python_version, top_k=i)\n",
    "    response = generate_response_bm25_rerank(query, retrieved_docs, python_version) \n",
    "    end_time = time.time()\n",
    "    execution_time = end_time - start_time\n",
    "    speed_test[\"bm25rerank\"].append({\"numberDoc\": i, \"response\": response, \"time\": execution_time})\n",
    "    print(i,end=\"\")"
   ]
  },
  {
   "cell_type": "code",
   "execution_count": 62,
   "id": "45548ff1-b79e-4020-b55a-510e0ef65569",
   "metadata": {},
   "outputs": [
    {
     "name": "stdout",
     "output_type": "stream",
     "text": [
      "891011121314"
     ]
    }
   ],
   "source": [
    "for i in range(minIterations, maxIterations):\n",
    "    start_time = time.time()\n",
    "    retrieved_docs = retrieve_documents_bm25_only(query, python_version, top_k=i)\n",
    "    response = generate_response_bm25(query, retrieved_docs, python_version) \n",
    "    end_time = time.time()\n",
    "    execution_time = end_time - start_time\n",
    "    speed_test[\"bm25\"].append({\"numberDoc\": i, \"response\": response, \"time\": execution_time})\n",
    "    print(i,end=\"\")"
   ]
  },
  {
   "cell_type": "code",
   "execution_count": 63,
   "id": "0b3a06ad-c20c-48b0-93bc-d5a4f77d3582",
   "metadata": {},
   "outputs": [
    {
     "name": "stdout",
     "output_type": "stream",
     "text": [
      "891011121314"
     ]
    }
   ],
   "source": [
    "for i in range(minIterations, maxIterations):\n",
    "    start_time = time.time()\n",
    "    retrieved_docs = retrieve_documents(query, \"3.10\", i)\n",
    "    answer = generate_response(query, retrieved_docs, \"3.10\")\n",
    "    end_time = time.time()\n",
    "    execution_time = end_time - start_time\n",
    "    speed_test[\"vector\"].append({\"numberDoc\": i, \"response\": response, \"time\": execution_time})\n",
    "    print(i,end=\"\")"
   ]
  },
  {
   "cell_type": "code",
   "execution_count": 64,
   "id": "3e7507a4-8b4c-453c-bffc-b51cac18e853",
   "metadata": {},
   "outputs": [
    {
     "name": "stdout",
     "output_type": "stream",
     "text": [
      "891011121314"
     ]
    }
   ],
   "source": [
    "for i in range(minIterations, maxIterations):\n",
    "    start_time = time.time()\n",
    "    retrieved_docs = retrieve_documents(query, \"3.10\", i)\n",
    "    answer = generate_response_rerank(query, retrieved_docs, \"3.10\")\n",
    "    end_time = time.time()\n",
    "    execution_time = end_time - start_time\n",
    "    speed_test[\"rerank\"].append({\"numberDoc\": i, \"response\": response, \"time\": execution_time})\n",
    "    print(i,end=\"\")"
   ]
  },
  {
   "cell_type": "code",
   "execution_count": null,
   "id": "0292c4ba-ed6d-45cb-b66b-4d28c48fa18f",
   "metadata": {},
   "outputs": [],
   "source": [
    "def measure_time(func):\n",
    "    @functools.wraps(func)\n",
    "    def wrapper(*args, **kwargs):\n",
    "        start_time = time.perf_counter()\n",
    "        result = func(*args, **kwargs)\n",
    "        end_time = time.perf_counter()\n",
    "        execution_time = end_time - start_time\n",
    "        print(f\"{func.__name__} finished in {execution_time:.4f} seconds.\")\n",
    "        return result\n",
    "    return wrapper"
   ]
  },
  {
   "cell_type": "code",
   "execution_count": 56,
   "id": "a46f7917-60fe-4690-a120-a2047edba8cf",
   "metadata": {},
   "outputs": [],
   "source": [
    "with open(\"speed_test.pkl\", \"wb\") as f:\n",
    "    pickle.dump(speed_test, f)"
   ]
  },
  {
   "cell_type": "code",
   "execution_count": null,
   "id": "5e02409d-c05d-471a-be1c-aa41820a13c6",
   "metadata": {},
   "outputs": [],
   "source": [
    "speed_test_copy = list(speed_test)"
   ]
  },
  {
   "cell_type": "code",
   "execution_count": null,
   "id": "9ee1a2b9-d5a5-426f-a3b6-be1af8053e9e",
   "metadata": {},
   "outputs": [],
   "source": [
    "print(speed_test)"
   ]
  },
  {
   "cell_type": "code",
   "execution_count": 3,
   "id": "e341e3e5-8870-43db-8d0b-2eb75d839896",
   "metadata": {},
   "outputs": [],
   "source": [
    "with open(\"speed_test.pkl\", \"rb\") as f:\n",
    "    speed_test = pickle.load(f)\n",
    "\n"
   ]
  },
  {
   "cell_type": "code",
   "execution_count": 58,
   "id": "8a2689c8-b683-4edb-92d8-8456d9e77c0b",
   "metadata": {},
   "outputs": [],
   "source": [
    "\n",
    "\n",
    "def generate_speed_test_plot(speed_test):\n",
    "    plt.figure(figsize=(10, 6))\n",
    "\n",
    "    for model, data in speed_test.items():\n",
    "        if data:\n",
    "            x_values = [entry[\"numberDoc\"] for entry in data] \n",
    "            y_values = [entry[\"time\"] for entry in data] \n",
    "            plt.plot(x_values, y_values, label=model, marker='o', linestyle='-')\n",
    "\n",
    "    plt.xlabel(\"Number of Documents\")\n",
    "    plt.ylabel(\"Execution Time (seconds)\")\n",
    "    plt.title(\"Execution Time vs Number of Documents for Different Models\")\n",
    "    plt.legend()\n",
    "    plt.grid(True)\n",
    "    plt.show()\n",
    "\n",
    "\n"
   ]
  },
  {
   "cell_type": "code",
   "execution_count": 65,
   "id": "c5a8ee1f-f6c7-4543-b327-0be0c8e880f3",
   "metadata": {},
   "outputs": [
    {
     "data": {
      "image/png": "[encoded data removed]",
      "text/plain": [
       "<Figure size 1000x600 with 1 Axes>"
      ]
     },
     "metadata": {},
     "output_type": "display_data"
    }
   ],
   "source": [
    "generate_speed_test_plot(speed_test)"
   ]
  },
  {
   "cell_type": "code",
   "execution_count": 142,
   "id": "32d31eb8-c9d7-4893-b905-025a00adfe8e",
   "metadata": {},
   "outputs": [],
   "source": [
    "def generate_answer(type_model, query, python_version, num_docs):\n",
    "    query = format_query(query)\n",
    "    match type_model:\n",
    "        case \"vector\":\n",
    "            retrieved_docs = retrieve_documents(query, python_version, num_docs)\n",
    "            return generate_response(query, retrieved_docs, python_version)\n",
    "        case \"bm25\":\n",
    "            retrieved_docs = retrieve_documents_bm25_only(query, python_version, num_docs)\n",
    "            return generate_response_bm25(query, retrieved_docs, python_version) \n",
    "        case \"rerank\":\n",
    "            retrieved_docs = retrieve_documents(query, python_version, num_docs)\n",
    "            return generate_response_rerank(query, retrieved_docs, python_version)\n",
    "        case \"bm25rerank\":\n",
    "            retrieved_docs = retrieve_documents_bm25(query, python_version, top_k=num_docs)\n",
    "            return generate_response_bm25_rerank(query, retrieved_docs, python_version) "
   ]
  },
  {
   "cell_type": "code",
   "execution_count": null,
   "id": "cdc14424-588d-49b2-9b50-295288801f6b",
   "metadata": {},
   "outputs": [],
   "source": [
    "speed_test = {\"vector\": [], \"bm25\": [], \"rerank\": [], \"bm25rerank\": []}"
   ]
  },
  {
   "cell_type": "code",
   "execution_count": 68,
   "id": "41a3ea81-4421-47a0-a38c-cabb8166f236",
   "metadata": {},
   "outputs": [
    {
     "name": "stdout",
     "output_type": "stream",
     "text": [
      "To read content from a file in Python, you can use the built-in `open` function along with the `read` method. Here’s a simple example:\n",
      "\n",
      "```python\n",
      "with open('your_file.txt', 'r') as f:\n",
      "    content = f.read()\n",
      "    print(content)\n",
      "```\n",
      "\n",
      "This code snippet does the following:\n",
      "- Opens the file `your_file.txt` in read mode (`'r'`).\n",
      "- Reads the entire content of the file into the variable `content`.\n",
      "- Prints the content to the console.\n",
      "\n",
      "Make sure to replace `'your_file.txt'` with the path to your actual file.\n",
      "----------------------------------------------------------------------------------------------------\n",
      "To read content from a file in Python, you can use the `gzip` module if the file is compressed. Here’s an example of how to read a compressed GZIP file:\n",
      "\n",
      "```python\n",
      "import gzip\n",
      "\n",
      "with gzip.open('/home/joe/file.txt.gz', 'rb') as f:\n",
      "    file_content = f.read()\n",
      "```\n",
      "\n",
      "If you want to read a regular text file, you can use the built-in `open` function:\n",
      "\n",
      "```python\n",
      "with open('path/to/your/file.txt', 'r') as f:\n",
      "    file_content = f.read()\n",
      "```\n",
      "\n",
      "In both cases, the content of the file will be stored in the variable `file_content`.\n",
      "----------------------------------------------------------------------------------------------------\n",
      "To read content from a file in Python, you can use the built-in `open` function along with the `read` method. Here’s a simple example:\n",
      "\n",
      "```python\n",
      "with open('your_file.txt', 'r') as f:\n",
      "    content = f.read()\n",
      "    print(content)\n",
      "```\n",
      "\n",
      "This code snippet does the following:\n",
      "- Opens the file `your_file.txt` in read mode (`'r'`).\n",
      "- Reads the entire content of the file into the variable `content`.\n",
      "- Prints the content to the console.\n",
      "\n",
      "Make sure to replace `'your_file.txt'` with the path to your actual file.\n",
      "----------------------------------------------------------------------------------------------------\n",
      "To read content from a file, you can use the following example based on the context provided:\n",
      "\n",
      "For a compressed GZIP file:\n",
      "```python\n",
      "import gzip\n",
      "with gzip.open('/home/joe/file.txt.gz', 'rb') as f:\n",
      "    file_content = f.read()\n",
      "```\n",
      "\n",
      "For a regular text file:\n",
      "```python\n",
      "with open(\"hello.txt\", \"r\") as f:\n",
      "    content = f.read()\n",
      "```\n",
      "\n",
      "Make sure to adjust the file path and mode ('rb' for binary or 'r' for text) as needed for your specific file.\n"
     ]
    }
   ],
   "source": [
    "print(speed_test[\"vector\"][6][\"response\"])\n",
    "print(100*\"-\")\n",
    "print(speed_test[\"bm25\"][6][\"response\"])\n",
    "print(100*\"-\")\n",
    "print(speed_test[\"rerank\"][6][\"response\"])\n",
    "print(100*\"-\")\n",
    "print(speed_test[\"bm25rerank\"][6][\"response\"])"
   ]
  },
  {
   "cell_type": "code",
   "execution_count": 153,
   "id": "322a04ee-1601-44ae-812d-6ac4de34dc35",
   "metadata": {},
   "outputs": [
    {
     "ename": "SyntaxError",
     "evalue": "unterminated string literal (detected at line 1) (1678533775.py, line 1)",
     "output_type": "error",
     "traceback": [
      "\u001b[1;36m  Cell \u001b[1;32mIn[153], line 1\u001b[1;36m\u001b[0m\n\u001b[1;33m    print(\"dwadwada\u001b[0m\n\u001b[1;37m          ^\u001b[0m\n\u001b[1;31mSyntaxError\u001b[0m\u001b[1;31m:\u001b[0m unterminated string literal (detected at line 1)\n"
     ]
    }
   ],
   "source": [
    "print(\"dwadwada"
   ]
  },
  {
   "cell_type": "code",
   "execution_count": 166,
   "id": "47627ba8-5c35-4cc0-b3fb-b34d204d2307",
   "metadata": {},
   "outputs": [
    {
     "name": "stdout",
     "output_type": "stream",
     "text": [
      "Here is a simple code snippet to open a file in Python:\n",
      "\n",
      "```python\n",
      "filename = 'example.txt'  # Specify the name of the file you want to open\n",
      "with open(filename, 'r') as file:  # Open the file in read mode\n",
      "    content = file.read()  # Read the content of the file\n",
      "    print(content)  # Print the content to the console\n",
      "```\n",
      "\n",
      "### Explanation:\n",
      "1. **Specify the Filename**: The variable `filename` is assigned the name of the file you want to open (in this case, 'example.txt').\n",
      "2. **Open the File**: The `with open(filename, 'r') as file:` statement opens the file in read mode (`'r'`). The `with` statement ensures that the file is properly closed after its suite finishes, even if an error is raised.\n",
      "3. **Read the Content**: The `file.read()` method reads the entire content of the file and stores it in the variable `content`.\n",
      "4. **Print the Content**: Finally, `print(content)` outputs the content of the file to the console.\n",
      "\n",
      "### Summary:\n",
      "This code demonstrates how to open a file, read its content, and print it in Python using a context manager to ensure proper handling of the file resource.\n"
     ]
    }
   ],
   "source": [
    "print(generate_answer(\"bm25rerank\", \"Generate me code to open file\", \"3.10\", 10))"
   ]
  }
 ],
 "metadata": {
  "kernelspec": {
   "display_name": "Python 3 (ipykernel)",
   "language": "python",
   "name": "python3"
  },
  "language_info": {
   "codemirror_mode": {
    "name": "ipython",
    "version": 3
   },
   "file_extension": ".py",
   "mimetype": "text/x-python",
   "name": "python",
   "nbconvert_exporter": "python",
   "pygments_lexer": "ipython3",
   "version": "3.11.11"
  }
 },
 "nbformat": 4,
 "nbformat_minor": 5
}
