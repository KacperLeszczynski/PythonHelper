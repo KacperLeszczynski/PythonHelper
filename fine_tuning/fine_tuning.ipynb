{
 "cells": [
  {
   "cell_type": "code",
   "execution_count": 30,
   "id": "09d61965-63b5-4e6c-ac62-10e89c9406f7",
   "metadata": {},
   "outputs": [],
   "source": [
    "from datasets import load_dataset\n",
    "import openai\n",
    "import os\n",
    "from dotenv import load_dotenv\n",
    "import json\n"
   ]
  },
  {
   "cell_type": "code",
   "execution_count": 31,
   "id": "4e39a261-874f-4511-b6fc-e1db0e72f853",
   "metadata": {},
   "outputs": [
    {
     "data": {
      "text/plain": [
       "True"
      ]
     },
     "execution_count": 31,
     "metadata": {},
     "output_type": "execute_result"
    }
   ],
   "source": [
    "load_dotenv()"
   ]
  },
  {
   "cell_type": "code",
   "execution_count": 32,
   "id": "11a7e59b-e626-4e24-9fce-1a9c14294392",
   "metadata": {},
   "outputs": [],
   "source": [
    "OPEN_AI_API_KEY = os.getenv(\"OPENAI_API_KEY\")"
   ]
  },
  {
   "cell_type": "code",
   "execution_count": 33,
   "id": "cfdeb3f7-f565-472c-96fd-4ddfc43c5949",
   "metadata": {},
   "outputs": [],
   "source": [
    "openai.api_key = OPEN_AI_API_KEY"
   ]
  },
  {
   "cell_type": "code",
   "execution_count": 16,
   "id": "54adecb9-bcad-427d-ab8b-12af698c758d",
   "metadata": {},
   "outputs": [],
   "source": [
    "dataset = load_dataset(\"mbpp\")"
   ]
  },
  {
   "cell_type": "code",
   "execution_count": 19,
   "id": "a99630b5-b2c8-4c3c-8dec-1264487238f1",
   "metadata": {},
   "outputs": [
    {
     "data": {
      "text/plain": [
       "DatasetDict({\n",
       "    train: Dataset({\n",
       "        features: ['task_id', 'text', 'code', 'test_list', 'test_setup_code', 'challenge_test_list'],\n",
       "        num_rows: 374\n",
       "    })\n",
       "    test: Dataset({\n",
       "        features: ['task_id', 'text', 'code', 'test_list', 'test_setup_code', 'challenge_test_list'],\n",
       "        num_rows: 500\n",
       "    })\n",
       "    validation: Dataset({\n",
       "        features: ['task_id', 'text', 'code', 'test_list', 'test_setup_code', 'challenge_test_list'],\n",
       "        num_rows: 90\n",
       "    })\n",
       "    prompt: Dataset({\n",
       "        features: ['task_id', 'text', 'code', 'test_list', 'test_setup_code', 'challenge_test_list'],\n",
       "        num_rows: 10\n",
       "    })\n",
       "})"
      ]
     },
     "execution_count": 19,
     "metadata": {},
     "output_type": "execute_result"
    }
   ],
   "source": [
    "dataset"
   ]
  },
  {
   "cell_type": "code",
   "execution_count": 14,
   "id": "f0f2fc5d-24b1-49cd-9c68-f2b1632b2d99",
   "metadata": {},
   "outputs": [
    {
     "name": "stdout",
     "output_type": "stream",
     "text": [
      "class Pair(object): \n",
      "\tdef __init__(self, a, b): \n",
      "\t\tself.a = a \n",
      "\t\tself.b = b \n",
      "def max_chain_length(arr, n): \n",
      "\tmax = 0\n",
      "\tmcl = [1 for i in range(n)] \n",
      "\tfor i in range(1, n): \n",
      "\t\tfor j in range(0, i): \n",
      "\t\t\tif (arr[i].a > arr[j].b and\n",
      "\t\t\t\tmcl[i] < mcl[j] + 1): \n",
      "\t\t\t\tmcl[i] = mcl[j] + 1\n",
      "\tfor i in range(n): \n",
      "\t\tif (max < mcl[i]): \n",
      "\t\t\tmax = mcl[i] \n",
      "\treturn max\n"
     ]
    }
   ],
   "source": [
    "print(dataset[\"train\"][0]['code'])"
   ]
  },
  {
   "cell_type": "code",
   "execution_count": 34,
   "id": "d74ca52b-0ed8-485e-bacd-2a5512c6dfe9",
   "metadata": {},
   "outputs": [],
   "source": [
    "prompt_model = \"\"\"\n",
    "    ### Context:\n",
    "    If additional context is provided, use it to enhance your response.\n",
    "    \n",
    "    ### User's questions:\n",
    "    {query}\n",
    "\n",
    "    ### Python version: \n",
    "    {python_version}\n",
    "    \n",
    "    ** Instructions **\n",
    "    - If user asks you to generate code and by using context you cannot do it, then generate it on your own\n",
    "    - If user doesn't ask to generate code and the context does not contain answer for query say \"I don't have sufficient knowledge to answer this question\".\n",
    "    - If the user's question does not specify Python, rephrase it internally as a Python-related question before answering.\n",
    "    - If there is a code in your output explain this code to the user step by step\n",
    "    - Do not answer any other question than about python programming language\n",
    "    - If topic is complex provide summary at the end of your answer\n",
    "    - Do not make up any information\n",
    "    - Provide consise and structured answer\n",
    "    \"\"\""
   ]
  },
  {
   "cell_type": "code",
   "execution_count": 35,
   "id": "c026770a-82f3-4c3b-be5d-152210a7d53b",
   "metadata": {},
   "outputs": [],
   "source": [
    "python_versions=[\"3.10\",\"3.11\",\"3.12\",\"3.13\"]"
   ]
  },
  {
   "cell_type": "code",
   "execution_count": 50,
   "id": "0d0596eb-736d-41c4-9e52-39dc71a3a823",
   "metadata": {},
   "outputs": [],
   "source": [
    "formatted_data = []\n",
    "\n",
    "\n",
    "for python_version in python_versions:\n",
    "    for example in dataset[\"train\"]:\n",
    "        formatted_data.append({\n",
    "            \"messages\": [\n",
    "                {\"role\": \"system\", \"content\": prompt_model.format(query=example[\"text\"], python_version=python_version).strip()},\n",
    "                {\"role\": \"user\", \"content\": example[\"text\"]},\n",
    "                {\"role\": \"assistant\", \"content\": example[\"code\"]}\n",
    "            ]\n",
    "        })\n",
    "\n",
    "with open(\"mbpp_finetune.jsonl\", \"w\") as f:\n",
    "    for entry in formatted_data:\n",
    "        f.write(json.dumps(entry) + \"\\n\")"
   ]
  },
  {
   "cell_type": "code",
   "execution_count": null,
   "id": "176f61f6-26e7-49d5-97b8-6597df50372f",
   "metadata": {},
   "outputs": [],
   "source": []
  },
  {
   "cell_type": "code",
   "execution_count": 51,
   "id": "6c2271ff-e457-44a6-a82b-c96f57f0d8ab",
   "metadata": {},
   "outputs": [],
   "source": [
    "validation_data = []\n",
    "for python_version in python_versions:\n",
    "    for example in dataset[\"validation\"]:\n",
    "        validation_data.append({\n",
    "            \"messages\": [\n",
    "                {\"role\": \"system\", \"content\": prompt_model.format(query=example[\"text\"], python_version=python_version).strip()},\n",
    "                {\"role\": \"user\", \"content\": example[\"text\"]},\n",
    "                {\"role\": \"assistant\", \"content\": example[\"code\"]}\n",
    "            ]\n",
    "        })\n",
    "\n",
    "with open(\"mbpp_finetune_val.jsonl\", \"w\") as f:\n",
    "    for entry in validation_data:\n",
    "        f.write(json.dumps(entry) + \"\\n\")"
   ]
  },
  {
   "cell_type": "code",
   "execution_count": 52,
   "id": "a4397977-d032-4003-8dfc-9ee9518ef9bd",
   "metadata": {},
   "outputs": [
    {
     "name": "stdout",
     "output_type": "stream",
     "text": [
      "{'messages': [{'role': 'system', 'content': '### Context:\\n    If additional context is provided, use it to enhance your response.\\n    \\n    ### User\\'s questions:\\n    Write a python function to find minimum sum of factors of a given number.\\n\\n    ### Python version: \\n    3.10\\n    \\n    ** Instructions **\\n    - If user asks you to generate code and by using context you cannot do it, then generate it on your own\\n    - If user doesn\\'t ask to generate code and the context does not contain answer for query say \"I don\\'t have sufficient knowledge to answer this question\".\\n    - If the user\\'s question does not specify Python, rephrase it internally as a Python-related question before answering.\\n    - If there is a code in your output explain this code to the user step by step\\n    - Do not answer any other question than about python programming language\\n    - If topic is complex provide summary at the end of your answer\\n    - Do not make up any information\\n    - Provide consise and structured answer'}, {'role': 'user', 'content': 'Write a python function to find minimum sum of factors of a given number.'}, {'role': 'assistant', 'content': 'def find_Min_Sum(num): \\r\\n    sum = 0\\r\\n    i = 2\\r\\n    while(i * i <= num): \\r\\n        while(num % i == 0): \\r\\n            sum += i \\r\\n            num /= i \\r\\n        i += 1\\r\\n    sum += num \\r\\n    return sum'}]}\n"
     ]
    }
   ],
   "source": [
    "print(validation_data[0])"
   ]
  },
  {
   "cell_type": "code",
   "execution_count": 54,
   "id": "a5fa89bb-71ac-4d6f-af7f-53c9627bb304",
   "metadata": {},
   "outputs": [],
   "source": [
    "train_file = openai.files.create(\n",
    "  file=open(\"mbpp_finetune.jsonl\", \"rb\"),\n",
    "  purpose=\"fine-tune\"\n",
    ")\n",
    "\n",
    "valid_file = openai.files.create(\n",
    "  file=open(\"mbpp_finetune_val.jsonl\", \"rb\"),\n",
    "  purpose=\"fine-tune\"\n",
    ")\n"
   ]
  },
  {
   "cell_type": "code",
   "execution_count": 55,
   "id": "fabffe96-cb58-4cd2-9e5f-f5b4d9ee6db5",
   "metadata": {},
   "outputs": [
    {
     "name": "stdout",
     "output_type": "stream",
     "text": [
      "Training file Info: FileObject(id='file-TLoZTPyqSHzprWM2vPEdLH', bytes=2054116, created_at=1741724696, filename='mbpp_finetune.jsonl', object='file', purpose='fine-tune', status='processed', expires_at=None, status_details=None)\n",
      "Validation file Info: FileObject(id='file-LT8NjQrKWvr2N9NWMyHMJZ', bytes=495784, created_at=1741724697, filename='mbpp_finetune_val.jsonl', object='file', purpose='fine-tune', status='processed', expires_at=None, status_details=None)\n"
     ]
    }
   ],
   "source": [
    "print(f\"Training file Info: {train_file}\")\n",
    "print(f\"Validation file Info: {valid_file}\")"
   ]
  },
  {
   "cell_type": "code",
   "execution_count": 59,
   "id": "c5ca8081-8f78-442f-9493-b38dfafa7285",
   "metadata": {},
   "outputs": [],
   "source": [
    "model = openai.fine_tuning.jobs.create(\n",
    "  training_file=train_file.id, \n",
    "  validation_file=valid_file.id,\n",
    "  model=\"gpt-4o-mini-2024-07-18\", \n",
    "  hyperparameters={\n",
    "    \"n_epochs\": 3,\n",
    "\t\"batch_size\": 3,\n",
    "\t\"learning_rate_multiplier\": 0.3\n",
    "  }\n",
    ")\n",
    "job_id = model.id\n",
    "status = model.status"
   ]
  },
  {
   "cell_type": "code",
   "execution_count": 60,
   "id": "3a1e95be-b24a-491f-aad7-43ed3add4aad",
   "metadata": {},
   "outputs": [
    {
     "name": "stdout",
     "output_type": "stream",
     "text": [
      "Fine-tuning model with jobID: ftjob-nAHqCOHrlROLsh4fzkDAvyb1.\n",
      "Training Response: FineTuningJob(id='ftjob-nAHqCOHrlROLsh4fzkDAvyb1', created_at=1741724879, error=Error(code=None, message=None, param=None), fine_tuned_model=None, finished_at=None, hyperparameters=Hyperparameters(batch_size=3, learning_rate_multiplier=0.3, n_epochs=3), model='gpt-4o-mini-2024-07-18', object='fine_tuning.job', organization_id='org-bgSJ5OvwR04OVBpr61Q2jq7K', result_files=[], seed=338309469, status='validating_files', trained_tokens=None, training_file='file-TLoZTPyqSHzprWM2vPEdLH', validation_file='file-LT8NjQrKWvr2N9NWMyHMJZ', estimated_finish=None, integrations=[], metadata=None, method=Method(dpo=None, supervised=MethodSupervised(hyperparameters=MethodSupervisedHyperparameters(batch_size=3, learning_rate_multiplier=0.3, n_epochs=3)), type='supervised'), user_provided_suffix=None)\n",
      "Training Status: validating_files\n"
     ]
    }
   ],
   "source": [
    "print(f'Fine-tuning model with jobID: {job_id}.')\n",
    "print(f\"Training Response: {model}\")\n",
    "print(f\"Training Status: {status}\")"
   ]
  },
  {
   "cell_type": "code",
   "execution_count": 61,
   "id": "1140943b-a447-465f-9142-265a7c65c32e",
   "metadata": {},
   "outputs": [
    {
     "data": {
      "text/plain": [
       "FineTuningJob(id='ftjob-nAHqCOHrlROLsh4fzkDAvyb1', created_at=1741724879, error=Error(code=None, message=None, param=None), fine_tuned_model=None, finished_at=None, hyperparameters=Hyperparameters(batch_size=3, learning_rate_multiplier=0.3, n_epochs=3), model='gpt-4o-mini-2024-07-18', object='fine_tuning.job', organization_id='org-bgSJ5OvwR04OVBpr61Q2jq7K', result_files=[], seed=338309469, status='validating_files', trained_tokens=None, training_file='file-TLoZTPyqSHzprWM2vPEdLH', validation_file='file-LT8NjQrKWvr2N9NWMyHMJZ', estimated_finish=None, integrations=[], metadata=None, method=Method(dpo=None, supervised=MethodSupervised(hyperparameters=MethodSupervisedHyperparameters(batch_size=3, learning_rate_multiplier=0.3, n_epochs=3)), type='supervised'), user_provided_suffix=None)"
      ]
     },
     "execution_count": 61,
     "metadata": {},
     "output_type": "execute_result"
    }
   ],
   "source": [
    "openai.fine_tuning.jobs.retrieve(job_id)"
   ]
  },
  {
   "cell_type": "code",
   "execution_count": 62,
   "id": "73363e2e-a6d9-45f4-9352-75177d6fce3d",
   "metadata": {},
   "outputs": [
    {
     "ename": "BadRequestError",
     "evalue": "Error code: 400 - {'error': {'message': 'Job has already completed: ftjob-nAHqCOHrlROLsh4fzkDAvyb1', 'type': 'invalid_request_error', 'param': 'fine_tune_id', 'code': 'invalid_cancel'}}",
     "output_type": "error",
     "traceback": [
      "\u001b[1;31m---------------------------------------------------------------------------\u001b[0m",
      "\u001b[1;31mBadRequestError\u001b[0m                           Traceback (most recent call last)",
      "Cell \u001b[1;32mIn[62], line 1\u001b[0m\n\u001b[1;32m----> 1\u001b[0m openai\u001b[38;5;241m.\u001b[39mfine_tuning\u001b[38;5;241m.\u001b[39mjobs\u001b[38;5;241m.\u001b[39mcancel(job_id)\n",
      "File \u001b[1;32m~\\anaconda3\\envs\\pyhelper\\Lib\\site-packages\\openai\\resources\\fine_tuning\\jobs\\jobs.py:293\u001b[0m, in \u001b[0;36mJobs.cancel\u001b[1;34m(self, fine_tuning_job_id, extra_headers, extra_query, extra_body, timeout)\u001b[0m\n\u001b[0;32m    291\u001b[0m \u001b[38;5;28;01mif\u001b[39;00m \u001b[38;5;129;01mnot\u001b[39;00m fine_tuning_job_id:\n\u001b[0;32m    292\u001b[0m     \u001b[38;5;28;01mraise\u001b[39;00m \u001b[38;5;167;01mValueError\u001b[39;00m(\u001b[38;5;124mf\u001b[39m\u001b[38;5;124m\"\u001b[39m\u001b[38;5;124mExpected a non-empty value for `fine_tuning_job_id` but received \u001b[39m\u001b[38;5;132;01m{\u001b[39;00mfine_tuning_job_id\u001b[38;5;132;01m!r}\u001b[39;00m\u001b[38;5;124m\"\u001b[39m)\n\u001b[1;32m--> 293\u001b[0m \u001b[38;5;28;01mreturn\u001b[39;00m \u001b[38;5;28mself\u001b[39m\u001b[38;5;241m.\u001b[39m_post(\n\u001b[0;32m    294\u001b[0m     \u001b[38;5;124mf\u001b[39m\u001b[38;5;124m\"\u001b[39m\u001b[38;5;124m/fine_tuning/jobs/\u001b[39m\u001b[38;5;132;01m{\u001b[39;00mfine_tuning_job_id\u001b[38;5;132;01m}\u001b[39;00m\u001b[38;5;124m/cancel\u001b[39m\u001b[38;5;124m\"\u001b[39m,\n\u001b[0;32m    295\u001b[0m     options\u001b[38;5;241m=\u001b[39mmake_request_options(\n\u001b[0;32m    296\u001b[0m         extra_headers\u001b[38;5;241m=\u001b[39mextra_headers, extra_query\u001b[38;5;241m=\u001b[39mextra_query, extra_body\u001b[38;5;241m=\u001b[39mextra_body, timeout\u001b[38;5;241m=\u001b[39mtimeout\n\u001b[0;32m    297\u001b[0m     ),\n\u001b[0;32m    298\u001b[0m     cast_to\u001b[38;5;241m=\u001b[39mFineTuningJob,\n\u001b[0;32m    299\u001b[0m )\n",
      "File \u001b[1;32m~\\anaconda3\\envs\\pyhelper\\Lib\\site-packages\\openai\\_base_client.py:1242\u001b[0m, in \u001b[0;36mSyncAPIClient.post\u001b[1;34m(self, path, cast_to, body, options, files, stream, stream_cls)\u001b[0m\n\u001b[0;32m   1228\u001b[0m \u001b[38;5;28;01mdef\u001b[39;00m \u001b[38;5;21mpost\u001b[39m(\n\u001b[0;32m   1229\u001b[0m     \u001b[38;5;28mself\u001b[39m,\n\u001b[0;32m   1230\u001b[0m     path: \u001b[38;5;28mstr\u001b[39m,\n\u001b[1;32m   (...)\u001b[0m\n\u001b[0;32m   1237\u001b[0m     stream_cls: \u001b[38;5;28mtype\u001b[39m[_StreamT] \u001b[38;5;241m|\u001b[39m \u001b[38;5;28;01mNone\u001b[39;00m \u001b[38;5;241m=\u001b[39m \u001b[38;5;28;01mNone\u001b[39;00m,\n\u001b[0;32m   1238\u001b[0m ) \u001b[38;5;241m-\u001b[39m\u001b[38;5;241m>\u001b[39m ResponseT \u001b[38;5;241m|\u001b[39m _StreamT:\n\u001b[0;32m   1239\u001b[0m     opts \u001b[38;5;241m=\u001b[39m FinalRequestOptions\u001b[38;5;241m.\u001b[39mconstruct(\n\u001b[0;32m   1240\u001b[0m         method\u001b[38;5;241m=\u001b[39m\u001b[38;5;124m\"\u001b[39m\u001b[38;5;124mpost\u001b[39m\u001b[38;5;124m\"\u001b[39m, url\u001b[38;5;241m=\u001b[39mpath, json_data\u001b[38;5;241m=\u001b[39mbody, files\u001b[38;5;241m=\u001b[39mto_httpx_files(files), \u001b[38;5;241m*\u001b[39m\u001b[38;5;241m*\u001b[39moptions\n\u001b[0;32m   1241\u001b[0m     )\n\u001b[1;32m-> 1242\u001b[0m     \u001b[38;5;28;01mreturn\u001b[39;00m cast(ResponseT, \u001b[38;5;28mself\u001b[39m\u001b[38;5;241m.\u001b[39mrequest(cast_to, opts, stream\u001b[38;5;241m=\u001b[39mstream, stream_cls\u001b[38;5;241m=\u001b[39mstream_cls))\n",
      "File \u001b[1;32m~\\anaconda3\\envs\\pyhelper\\Lib\\site-packages\\openai\\_base_client.py:919\u001b[0m, in \u001b[0;36mSyncAPIClient.request\u001b[1;34m(self, cast_to, options, remaining_retries, stream, stream_cls)\u001b[0m\n\u001b[0;32m    916\u001b[0m \u001b[38;5;28;01melse\u001b[39;00m:\n\u001b[0;32m    917\u001b[0m     retries_taken \u001b[38;5;241m=\u001b[39m \u001b[38;5;241m0\u001b[39m\n\u001b[1;32m--> 919\u001b[0m \u001b[38;5;28;01mreturn\u001b[39;00m \u001b[38;5;28mself\u001b[39m\u001b[38;5;241m.\u001b[39m_request(\n\u001b[0;32m    920\u001b[0m     cast_to\u001b[38;5;241m=\u001b[39mcast_to,\n\u001b[0;32m    921\u001b[0m     options\u001b[38;5;241m=\u001b[39moptions,\n\u001b[0;32m    922\u001b[0m     stream\u001b[38;5;241m=\u001b[39mstream,\n\u001b[0;32m    923\u001b[0m     stream_cls\u001b[38;5;241m=\u001b[39mstream_cls,\n\u001b[0;32m    924\u001b[0m     retries_taken\u001b[38;5;241m=\u001b[39mretries_taken,\n\u001b[0;32m    925\u001b[0m )\n",
      "File \u001b[1;32m~\\anaconda3\\envs\\pyhelper\\Lib\\site-packages\\openai\\_base_client.py:1023\u001b[0m, in \u001b[0;36mSyncAPIClient._request\u001b[1;34m(self, cast_to, options, retries_taken, stream, stream_cls)\u001b[0m\n\u001b[0;32m   1020\u001b[0m         err\u001b[38;5;241m.\u001b[39mresponse\u001b[38;5;241m.\u001b[39mread()\n\u001b[0;32m   1022\u001b[0m     log\u001b[38;5;241m.\u001b[39mdebug(\u001b[38;5;124m\"\u001b[39m\u001b[38;5;124mRe-raising status error\u001b[39m\u001b[38;5;124m\"\u001b[39m)\n\u001b[1;32m-> 1023\u001b[0m     \u001b[38;5;28;01mraise\u001b[39;00m \u001b[38;5;28mself\u001b[39m\u001b[38;5;241m.\u001b[39m_make_status_error_from_response(err\u001b[38;5;241m.\u001b[39mresponse) \u001b[38;5;28;01mfrom\u001b[39;00m \u001b[38;5;28;01mNone\u001b[39;00m\n\u001b[0;32m   1025\u001b[0m \u001b[38;5;28;01mreturn\u001b[39;00m \u001b[38;5;28mself\u001b[39m\u001b[38;5;241m.\u001b[39m_process_response(\n\u001b[0;32m   1026\u001b[0m     cast_to\u001b[38;5;241m=\u001b[39mcast_to,\n\u001b[0;32m   1027\u001b[0m     options\u001b[38;5;241m=\u001b[39moptions,\n\u001b[1;32m   (...)\u001b[0m\n\u001b[0;32m   1031\u001b[0m     retries_taken\u001b[38;5;241m=\u001b[39mretries_taken,\n\u001b[0;32m   1032\u001b[0m )\n",
      "\u001b[1;31mBadRequestError\u001b[0m: Error code: 400 - {'error': {'message': 'Job has already completed: ftjob-nAHqCOHrlROLsh4fzkDAvyb1', 'type': 'invalid_request_error', 'param': 'fine_tune_id', 'code': 'invalid_cancel'}}"
     ]
    }
   ],
   "source": [
    "openai.fine_tuning.jobs.cancel(job_id)"
   ]
  },
  {
   "cell_type": "code",
   "execution_count": 63,
   "id": "00637999-313c-4818-b166-06b263be79be",
   "metadata": {},
   "outputs": [],
   "source": [
    "result = openai.fine_tuning.jobs.list()"
   ]
  },
  {
   "cell_type": "code",
   "execution_count": 64,
   "id": "c9fe0821-ed48-4897-b99f-63f766260b2e",
   "metadata": {},
   "outputs": [],
   "source": [
    "fine_tuned_model = result.data[0].fine_tuned_model"
   ]
  },
  {
   "cell_type": "code",
   "execution_count": 65,
   "id": "4694ccf5-b9ae-42cc-920a-fb077cb41f27",
   "metadata": {},
   "outputs": [
    {
     "name": "stdout",
     "output_type": "stream",
     "text": [
      "ft:gpt-4o-mini-2024-07-18:personal::BA15GnWM\n"
     ]
    }
   ],
   "source": [
    "print(fine_tuned_model)"
   ]
  },
  {
   "cell_type": "code",
   "execution_count": 69,
   "id": "b5999ddf-5d9d-44b6-a089-7c76482c8665",
   "metadata": {},
   "outputs": [
    {
     "name": "stdout",
     "output_type": "stream",
     "text": [
      "Please provide more context or specify what you want to print so I can assist you appropriately.\n"
     ]
    }
   ],
   "source": [
    "completion = openai.chat.completions.create(\n",
    "  model = fine_tuned_model,\n",
    "  messages=[\n",
    "    {\"role\": \"system\", \"content\": \"You are python expert and you provide answer only based on given context.\"},\n",
    "    {\"role\": \"user\", \"content\": \"generate code to print\"}\n",
    "  ]\n",
    ")\n",
    "print(completion.choices[0].message.content)"
   ]
  }
 ],
 "metadata": {
  "kernelspec": {
   "display_name": "Python 3 (ipykernel)",
   "language": "python",
   "name": "python3"
  },
  "language_info": {
   "codemirror_mode": {
    "name": "ipython",
    "version": 3
   },
   "file_extension": ".py",
   "mimetype": "text/x-python",
   "name": "python",
   "nbconvert_exporter": "python",
   "pygments_lexer": "ipython3",
   "version": "3.11.11"
  }
 },
 "nbformat": 4,
 "nbformat_minor": 5
}
